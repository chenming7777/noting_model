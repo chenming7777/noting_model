{
 "cells": [
  {
   "cell_type": "code",
   "execution_count": 1,
   "metadata": {},
   "outputs": [],
   "source": [
    "from PyPDF2 import PdfReader\n",
    "from langchain.text_splitter import RecursiveCharacterTextSplitter\n",
    "import os\n",
    "from langchain_google_genai import GoogleGenerativeAIEmbeddings\n",
    "import google.generativeai as genai\n",
    "from langchain_community.vectorstores import FAISS\n",
    "from langchain_google_genai import ChatGoogleGenerativeAI\n",
    "from langchain.chains.question_answering import load_qa_chain\n",
    "from langchain.prompts import PromptTemplate\n",
    "from dotenv import load_dotenv"
   ]
  },
  {
   "cell_type": "code",
   "execution_count": 2,
   "metadata": {},
   "outputs": [],
   "source": [
    "load_dotenv()\n",
    "os.getenv(\"GOOGLE_API_KEY\")\n",
    "genai.configure(api_key=os.getenv(\"GOOGLE_API_KEY\"))"
   ]
  },
  {
   "cell_type": "code",
   "execution_count": 3,
   "metadata": {},
   "outputs": [],
   "source": [
    "def get_pdf_text(pdf_docs):\n",
    "    text = \"\"\n",
    "    for pdf in pdf_docs:\n",
    "        pdf_reader = PdfReader(pdf)\n",
    "        for page in pdf_reader.pages:\n",
    "            text += page.extract_text()\n",
    "    return text"
   ]
  },
  {
   "cell_type": "code",
   "execution_count": 4,
   "metadata": {},
   "outputs": [],
   "source": [
    "text = \"\"\n",
    "pdf_reader = PdfReader(\"Motivation Letter Teh Chen Ming.pdf\")\n",
    "for page in pdf_reader.pages:\n",
    "    text += page.extract_text()"
   ]
  },
  {
   "cell_type": "code",
   "execution_count": 5,
   "metadata": {},
   "outputs": [
    {
     "data": {
      "text/plain": [
       "\"Name: Teh Chen Ming , email: tehchenm ing7777@gmail.com  \\nMy motivation for applying to the ASEAN Seeds for the Future program is because I have \\na strong interest in leveraging technology to create sustainable solution, particularly in \\nthe green energy sector.   During my studies in Computer Science with a specialization in \\nData Analysis at Asia Pacific University in Malaysia, I have engaged in various projects \\nlike the prosumer energy behavior prediction model which honed my ability to tackle \\nreal-world problems  through data -driven innovation.   \\n \\nParticipating in the KitaHack competition, our team developed a home energy \\nmanagement system called GreenPeak which make me interested in energy sector and \\ngreen energy and inspired me to have my new idea agrivoltaics, a integration of solar \\nenergy genera tion with agriculture, utilizing digital twins, blockchain for data privacy and \\nAI for enhanced efficiency and AI assistance.   This aligns with my professional goal of \\nadvancing green technology to address energy and environmental challenges.   \\n \\nThrough this program, I hope to deepen my understanding on related technologies and \\ngain more insights into green energy sector for my app development.   I also expect to \\nestablish valuable connection, exchange idea and collaborate with like -minded \\npeers.   This program is a valuable chance to transform my passion into impactful \\naction, contributing to Southeast Asia's progress in green technology and make myself \\nas an active participant in the ASEAN technological and sustainable development.  \""
      ]
     },
     "execution_count": 5,
     "metadata": {},
     "output_type": "execute_result"
    }
   ],
   "source": [
    "text"
   ]
  },
  {
   "cell_type": "code",
   "execution_count": 6,
   "metadata": {},
   "outputs": [],
   "source": [
    "def get_text_chunks(text):\n",
    "    text_splitter = RecursiveCharacterTextSplitter(chunk_size=2000, chunk_overlap=500)\n",
    "    chunks = text_splitter.split_text(text)\n",
    "    return chunks"
   ]
  },
  {
   "cell_type": "code",
   "execution_count": 7,
   "metadata": {},
   "outputs": [
    {
     "data": {
      "text/plain": [
       "[\"Name: Teh Chen Ming , email: tehchenm ing7777@gmail.com  \\nMy motivation for applying to the ASEAN Seeds for the Future program is because I have \\na strong interest in leveraging technology to create sustainable solution, particularly in \\nthe green energy sector.   During my studies in Computer Science with a specialization in \\nData Analysis at Asia Pacific University in Malaysia, I have engaged in various projects \\nlike the prosumer energy behavior prediction model which honed my ability to tackle \\nreal-world problems  through data -driven innovation.   \\n \\nParticipating in the KitaHack competition, our team developed a home energy \\nmanagement system called GreenPeak which make me interested in energy sector and \\ngreen energy and inspired me to have my new idea agrivoltaics, a integration of solar \\nenergy genera tion with agriculture, utilizing digital twins, blockchain for data privacy and \\nAI for enhanced efficiency and AI assistance.   This aligns with my professional goal of \\nadvancing green technology to address energy and environmental challenges.   \\n \\nThrough this program, I hope to deepen my understanding on related technologies and \\ngain more insights into green energy sector for my app development.   I also expect to \\nestablish valuable connection, exchange idea and collaborate with like -minded \\npeers.   This program is a valuable chance to transform my passion into impactful \\naction, contributing to Southeast Asia's progress in green technology and make myself \\nas an active participant in the ASEAN technological and sustainable development.\"]"
      ]
     },
     "execution_count": 7,
     "metadata": {},
     "output_type": "execute_result"
    }
   ],
   "source": [
    "test = get_text_chunks(text)\n",
    "test"
   ]
  },
  {
   "cell_type": "code",
   "execution_count": 8,
   "metadata": {},
   "outputs": [],
   "source": [
    "def get_vector_store(text_chunks):\n",
    "    embeddings = GoogleGenerativeAIEmbeddings(model = \"models/embedding-001\")\n",
    "    vector_store = FAISS.from_texts(text_chunks, embedding=embeddings)\n",
    "    vector_store.save_local(\"faiss_index\")\n"
   ]
  },
  {
   "cell_type": "code",
   "execution_count": 9,
   "metadata": {},
   "outputs": [],
   "source": [
    "embeddings = GoogleGenerativeAIEmbeddings(model = \"models/embedding-001\")\n",
    "vector_store = FAISS.from_texts(test, embedding=embeddings)\n",
    "vector_store.save_local(\"faiss_index\")"
   ]
  },
  {
   "cell_type": "code",
   "execution_count": 10,
   "metadata": {},
   "outputs": [],
   "source": [
    "def get_conversational_chain():\n",
    "\n",
    "    prompt_template = \"\"\"\n",
    "    Answer the question as detailed as possible from the provided context, make sure to provide all the details, if the answer is not in\n",
    "    provided context just say, \"answer is not available in the context\", don't provide the wrong answer\\n\\n\n",
    "    Context:\\n {context}?\\n\n",
    "    Question: \\n{question}\\n\n",
    "\n",
    "    Answer:\n",
    "    \"\"\"\n",
    "\n",
    "    model = ChatGoogleGenerativeAI(model=\"gemini-1.5-flash\",\n",
    "                             temperature=0.3)\n",
    "\n",
    "    prompt = PromptTemplate(template = prompt_template, input_variables = [\"context\", \"question\"])\n",
    "    chain = load_qa_chain(model, chain_type=\"stuff\", prompt=prompt)\n",
    "\n",
    "    return chain"
   ]
  },
  {
   "cell_type": "code",
   "execution_count": 14,
   "metadata": {},
   "outputs": [],
   "source": [
    "prompt_template = \"\"\"\n",
    "Answer the question as detailed as possible from the provided context, make sure to provide all the details, if the answer is not in\n",
    "provided context just say, \"answer is not available in the context\", don't provide the wrong answer\\n\\n\n",
    "Context:\\n {context}?\\n\n",
    "Question: \\n{question}\\n\n",
    "\n",
    "Answer:\n",
    "\"\"\"\n",
    "\n",
    "model = ChatGoogleGenerativeAI(model=\"gemini-1.5-flash\",\n",
    "                            temperature=0.3)\n",
    "\n",
    "prompt = PromptTemplate(template = prompt_template, input_variables = [\"context\", \"question\"])\n",
    "chain = load_qa_chain(model, chain_type=\"stuff\", prompt=prompt)"
   ]
  },
  {
   "cell_type": "code",
   "execution_count": 12,
   "metadata": {},
   "outputs": [],
   "source": [
    "def user_input(user_question):\n",
    "    embeddings = GoogleGenerativeAIEmbeddings(model = \"models/embedding-001\")\n",
    "    \n",
    "    new_db = FAISS.load_local(\"faiss_index\", embeddings)\n",
    "    docs = new_db.similarity_search(user_question)\n",
    "\n",
    "    chain = get_conversational_chain()\n",
    "\n",
    "    \n",
    "    response = chain(\n",
    "        {\"input_documents\":docs, \"question\": user_question}\n",
    "        , return_only_outputs=True)\n",
    "\n",
    "    print(response)\n"
   ]
  },
  {
   "cell_type": "code",
   "execution_count": 15,
   "metadata": {},
   "outputs": [
    {
     "name": "stdout",
     "output_type": "stream",
     "text": [
      "{'output_text': 'The provided context mentions that Teh Chen Ming participated in the **KitaHack competition**. \\n'}\n"
     ]
    }
   ],
   "source": [
    "embeddings = GoogleGenerativeAIEmbeddings(model = \"models/embedding-001\")\n",
    "user_question = \"show all the competition and hackthon he join\"\n",
    "\n",
    "new_db = FAISS.load_local(\"faiss_index\", embeddings, allow_dangerous_deserialization=True)\n",
    "docs = new_db.similarity_search(user_question)\n",
    "\n",
    "chain = get_conversational_chain()\n",
    "\n",
    "\n",
    "response = chain.invoke(\n",
    "        {\"input_documents\": docs, \"question\": user_question},\n",
    "        return_only_outputs=True\n",
    "    )\n",
    "\n",
    "print(response)"
   ]
  }
 ],
 "metadata": {
  "kernelspec": {
   "display_name": "Python 3",
   "language": "python",
   "name": "python3"
  },
  "language_info": {
   "codemirror_mode": {
    "name": "ipython",
    "version": 3
   },
   "file_extension": ".py",
   "mimetype": "text/x-python",
   "name": "python",
   "nbconvert_exporter": "python",
   "pygments_lexer": "ipython3",
   "version": "3.10.6"
  }
 },
 "nbformat": 4,
 "nbformat_minor": 2
}
